{
 "cells": [
  {
   "cell_type": "code",
   "execution_count": 1,
   "id": "11a26d8a-1daf-4c4f-8341-6d29b8952fec",
   "metadata": {},
   "outputs": [
    {
     "name": "stdout",
     "output_type": "stream",
     "text": [
      "Defaulting to user installation because normal site-packages is not writeable\n",
      "Requirement already satisfied: paramiko in /home/glue_user/.local/lib/python3.7/site-packages (3.4.0)\n",
      "Requirement already satisfied: pynacl>=1.5 in /home/glue_user/.local/lib/python3.7/site-packages (from paramiko) (1.5.0)\n",
      "Requirement already satisfied: cryptography>=3.3 in /home/glue_user/.local/lib/python3.7/site-packages (from paramiko) (39.0.0)\n",
      "Requirement already satisfied: bcrypt>=3.2 in /home/glue_user/.local/lib/python3.7/site-packages (from paramiko) (4.1.2)\n",
      "Requirement already satisfied: cffi>=1.12 in /home/glue_user/.local/lib/python3.7/site-packages (from cryptography>=3.3->paramiko) (1.15.1)\n",
      "Requirement already satisfied: pycparser in /home/glue_user/.local/lib/python3.7/site-packages (from cffi>=1.12->cryptography>=3.3->paramiko) (2.21)\n",
      "\n",
      "\u001b[1m[\u001b[0m\u001b[34;49mnotice\u001b[0m\u001b[1;39;49m]\u001b[0m\u001b[39;49m A new release of pip available: \u001b[0m\u001b[31;49m22.3.1\u001b[0m\u001b[39;49m -> \u001b[0m\u001b[32;49m24.0\u001b[0m\n",
      "\u001b[1m[\u001b[0m\u001b[34;49mnotice\u001b[0m\u001b[1;39;49m]\u001b[0m\u001b[39;49m To update, run: \u001b[0m\u001b[32;49mpython3 -m pip install --upgrade pip\u001b[0m\n",
      "Defaulting to user installation because normal site-packages is not writeable\n",
      "Requirement already satisfied: sshtunnel in /home/glue_user/.local/lib/python3.7/site-packages (0.4.0)\n",
      "Requirement already satisfied: paramiko>=2.7.2 in /home/glue_user/.local/lib/python3.7/site-packages (from sshtunnel) (3.4.0)\n",
      "Requirement already satisfied: bcrypt>=3.2 in /home/glue_user/.local/lib/python3.7/site-packages (from paramiko>=2.7.2->sshtunnel) (4.1.2)\n",
      "Requirement already satisfied: cryptography>=3.3 in /home/glue_user/.local/lib/python3.7/site-packages (from paramiko>=2.7.2->sshtunnel) (39.0.0)\n",
      "Requirement already satisfied: pynacl>=1.5 in /home/glue_user/.local/lib/python3.7/site-packages (from paramiko>=2.7.2->sshtunnel) (1.5.0)\n",
      "Requirement already satisfied: cffi>=1.12 in /home/glue_user/.local/lib/python3.7/site-packages (from cryptography>=3.3->paramiko>=2.7.2->sshtunnel) (1.15.1)\n",
      "Requirement already satisfied: pycparser in /home/glue_user/.local/lib/python3.7/site-packages (from cffi>=1.12->cryptography>=3.3->paramiko>=2.7.2->sshtunnel) (2.21)\n",
      "\n",
      "\u001b[1m[\u001b[0m\u001b[34;49mnotice\u001b[0m\u001b[1;39;49m]\u001b[0m\u001b[39;49m A new release of pip available: \u001b[0m\u001b[31;49m22.3.1\u001b[0m\u001b[39;49m -> \u001b[0m\u001b[32;49m24.0\u001b[0m\n",
      "\u001b[1m[\u001b[0m\u001b[34;49mnotice\u001b[0m\u001b[1;39;49m]\u001b[0m\u001b[39;49m To update, run: \u001b[0m\u001b[32;49mpython3 -m pip install --upgrade pip\u001b[0m\n",
      "Defaulting to user installation because normal site-packages is not writeable\n",
      "Requirement already satisfied: openpyxl in /home/glue_user/.local/lib/python3.7/site-packages (3.1.2)\n",
      "Requirement already satisfied: et-xmlfile in /home/glue_user/.local/lib/python3.7/site-packages (from openpyxl) (1.1.0)\n",
      "\n",
      "\u001b[1m[\u001b[0m\u001b[34;49mnotice\u001b[0m\u001b[1;39;49m]\u001b[0m\u001b[39;49m A new release of pip available: \u001b[0m\u001b[31;49m22.3.1\u001b[0m\u001b[39;49m -> \u001b[0m\u001b[32;49m24.0\u001b[0m\n",
      "\u001b[1m[\u001b[0m\u001b[34;49mnotice\u001b[0m\u001b[1;39;49m]\u001b[0m\u001b[39;49m To update, run: \u001b[0m\u001b[32;49mpython3 -m pip install --upgrade pip\u001b[0m\n",
      "Defaulting to user installation because normal site-packages is not writeable\n",
      "Requirement already satisfied: mysql-connector-python in /home/glue_user/.local/lib/python3.7/site-packages (8.0.33)\n",
      "Requirement already satisfied: protobuf<=3.20.3,>=3.11.0 in /home/glue_user/.local/lib/python3.7/site-packages (from mysql-connector-python) (3.20.3)\n",
      "\n",
      "\u001b[1m[\u001b[0m\u001b[34;49mnotice\u001b[0m\u001b[1;39;49m]\u001b[0m\u001b[39;49m A new release of pip available: \u001b[0m\u001b[31;49m22.3.1\u001b[0m\u001b[39;49m -> \u001b[0m\u001b[32;49m24.0\u001b[0m\n",
      "\u001b[1m[\u001b[0m\u001b[34;49mnotice\u001b[0m\u001b[1;39;49m]\u001b[0m\u001b[39;49m To update, run: \u001b[0m\u001b[32;49mpython3 -m pip install --upgrade pip\u001b[0m\n"
     ]
    }
   ],
   "source": [
    "!pip install paramiko\n",
    "!pip install sshtunnel\n",
    "!pip install openpyxl\n",
    "!pip install mysql-connector-python"
   ]
  },
  {
   "cell_type": "code",
   "execution_count": 2,
   "id": "ecb65a52-21f8-45b3-bc7b-c560c59cc5aa",
   "metadata": {},
   "outputs": [],
   "source": [
    "import paramiko\n",
    "from sshtunnel import SSHTunnelForwarder\n",
    "import mysql.connector\n",
    "import pandas as pd\n",
    "import warnings"
   ]
  },
  {
   "cell_type": "code",
   "execution_count": 6,
   "id": "7d273663-e7bd-444c-a5aa-037c0f8aaa42",
   "metadata": {},
   "outputs": [],
   "source": [
    "from string import Template\n",
    "\n",
    "template_invoice = Template(\"\"\"\n",
    "SELECT i.id, i.invoice_date, i.invoice_number, i.is_initial, i.lease_id, i.cashflow_id, i.status_id, t.dMonth,t.deleted_at, t.re_sync_status\n",
    "FROM invoice i LEFT JOIN totalleasecf t ON i.cashflow_id = t.idTotalLeaseCF\n",
    "WHERE i.lease_id = $id AND i.is_initial = 1 AND i.status_id = 1;\n",
    "\"\"\")\n",
    "\n",
    "template_tlcf = Template(\"\"\"\n",
    "SELECT *\n",
    "FROM totalleasecf\n",
    "WHERE idLease = $id and is_initial = 1 and dMonth = $period and re_sync_status = 'Active' and deleted_at is null\n",
    "\"\"\")\n",
    "\n",
    "template_update = Template(\"\"\"\n",
    "UPDATE invoice SET cashflow_id = $new_cashflow_id WHERE id = $invoice_id\n",
    "\"\"\")"
   ]
  },
  {
   "cell_type": "code",
   "execution_count": 21,
   "id": "18e41fae-ae92-4bd6-94b2-73241ba69788",
   "metadata": {
    "tags": []
   },
   "outputs": [],
   "source": [
    "warnings.filterwarnings(\"ignore\", message=\"pandas only supports SQLAlchemy connectable\")\n",
    "\n",
    "class IdTotalLeaseCfReassigner:\n",
    "\n",
    "    def __init__(self, id_lease_to_check: int) -> None:\n",
    "        self.valores = {'id': id_lease_to_check,\n",
    "                        'period': '',\n",
    "                        'dMonth': None,\n",
    "                        'new_cashflow_id': None,\n",
    "                        'old_cashflow_id': None,\n",
    "                        'invoice_id': None\n",
    "                        }\n",
    "\n",
    "    def ejecutar_update(self, query):\n",
    "        try:\n",
    "            conexion = mysql.connector.connect(\n",
    "                host=\"localhost\",\n",
    "                user=\"idiaz\",\n",
    "                password=\"FI1cYZAN2ICKr7Ads1RaNGgL8lnX\",\n",
    "                database=\"quantum\"\n",
    "            )\n",
    "\n",
    "            cursor = conexion.cursor()\n",
    "            cursor.execute(query)\n",
    "            conexion.commit()\n",
    "            print(\"Query ejecutada exitosamente\")\n",
    "\n",
    "        except mysql.connector.Error as error:\n",
    "            print(\"Error al ejecutar el query:\", error)\n",
    "        finally:\n",
    "            if conexion.is_connected():\n",
    "                cursor.close()\n",
    "                conexion.close()\n",
    "\n",
    "\n",
    "    def ejecutar_select_to_df(self, query):\n",
    "        try:\n",
    "            conexion = mysql.connector.connect(\n",
    "                host=\"localhost\",\n",
    "                user=\"idiaz\",\n",
    "                password=\"FI1cYZAN2ICKr7Ads1RaNGgL8lnX\",\n",
    "                database=\"quantum\"\n",
    "            )\n",
    "\n",
    "            df_result = pd.read_sql(query, conexion)\n",
    "            print(\"Query ejecutada exitosamente\")\n",
    "            return df_result\n",
    "        except mysql.connector.Error as error:\n",
    "            print(\"Error al ejecutar el query:\", error)\n",
    "            return None\n",
    "        finally:\n",
    "            if conexion.is_connected():\n",
    "                conexion.close()\n",
    "\n",
    "    def main(self):\n",
    "        query =  template_invoice.substitute(self.valores)\n",
    "\n",
    "        df = self.ejecutar_select_to_df(query)\n",
    "        self.valores['invoice_id'] = df['id'][0]\n",
    "\n",
    "        if df['re_sync_status'][0] =='Canceled':\n",
    "            display(df)\n",
    "            self.valores['old_cashflow_id'] = df['cashflow_id'][0]\n",
    "            self.valores['period'] = df['dMonth'][0]\n",
    "            df_tlcf = self.ejecutar_select_to_df(template_tlcf.substitute(self.valores))\n",
    "            display(df_tlcf)\n",
    "\n",
    "\n",
    "            self.valores['new_cashflow_id'] = df_tlcf['idTotalLeaseCF'][0]\n",
    "\n",
    "            update_q = template_update.substitute(self.valores)\n",
    "            self.ejecutar_update(update_q)\n",
    "\n",
    "            display(self.ejecutar_select_to_df(query))\n",
    "            print(f\"\"\"\n",
    "            Factura de iniciales con invoice_id = {self.valores['invoice_id']} para el id_lease {self.valores['id']}\n",
    "            Ha sido asignado al Cashflow_id = {self.valores['new_cashflow_id']}\n",
    "            Anteriormente se tenia asignado al Cashflow_id = {self.valores['old_cashflow_id']}\n",
    "            \"\"\")\n",
    "        else:\n",
    "            print(f\"No hay facturas de iniciales para el id lease {self.valores['id']}\")\n"
   ]
  },
  {
   "cell_type": "code",
   "execution_count": 13,
   "id": "af2cab3d-8dbf-44c7-a515-8240474a2bd7",
   "metadata": {},
   "outputs": [],
   "source": [
    "def main():\n",
    "    # Tu código principal va aquí\n",
    "    ids_to_check = [520]\n",
    "\n",
    "    for id in ids_to_check:\n",
    "        driver = IdTotalLeaseCfReassigner(id)\n",
    "        driver.main()"
   ]
  },
  {
   "cell_type": "code",
   "execution_count": 23,
   "id": "27ec8c1c-bbc6-49b4-b2fa-f1b5e429070b",
   "metadata": {},
   "outputs": [
    {
     "data": {
      "text/html": [
       "<style>.container { width:100% !important; }</style>"
      ],
      "text/plain": [
       "<IPython.core.display.HTML object>"
      ]
     },
     "metadata": {},
     "output_type": "display_data"
    },
    {
     "name": "stdout",
     "output_type": "stream",
     "text": [
      "Query ejecutada exitosamente\n",
      "No hay facturas de iniciales para el id lease 520\n"
     ]
    }
   ],
   "source": [
    "from IPython.core.display import display, HTML\n",
    "\n",
    "# Configura para mostrar el contenido completo sin truncarlo\n",
    "display(HTML(\"<style>.container { width:100% !important; }</style>\"))\n",
    "\n",
    "ssh_host = 'quantum-v2-devprod-brdg-lb-09381999897f2232.elb.us-east-1.amazonaws.com'\n",
    "ssh_port = 22\n",
    "ssh_user = 'ubuntu'\n",
    "ssh_password = 'heJQAshymxMMhnKW6vth3LlEWbsc'\n",
    "\n",
    "# Establecer la configuración para el túnel SSH\n",
    "# v v v v v v v v Cambiar a Prod v v v v v v v v\n",
    "remote_host = 'quantum-v2-dev-rds.cluster-cegv0wkgdkwr.us-east-1.rds.amazonaws.com'\n",
    "remote_port = 3306\n",
    "local_port = 3306\n",
    "\n",
    "# Crear una instancia de SSHTunnelForwarder para gestionar el túnel SSH\n",
    "with SSHTunnelForwarder((ssh_host, ssh_port),\n",
    "                        ssh_username = ssh_user, \n",
    "                        ssh_password = ssh_password, \n",
    "                        remote_bind_address = (remote_host, remote_port),\n",
    "                        local_bind_address=('localhost', local_port)) as tunnel:\n",
    "    main()"
   ]
  },
  {
   "cell_type": "code",
   "execution_count": 18,
   "id": "c959c594-879a-48a4-9c44-fa8f8b402ee5",
   "metadata": {},
   "outputs": [],
   "source": []
  },
  {
   "cell_type": "code",
   "execution_count": null,
   "id": "630e82f7-059a-4ec1-aac8-3db4559f9ecb",
   "metadata": {},
   "outputs": [],
   "source": []
  },
  {
   "cell_type": "code",
   "execution_count": null,
   "id": "73dc6d12-c7a8-4a13-a631-7e670ec7849d",
   "metadata": {},
   "outputs": [],
   "source": []
  }
 ],
 "metadata": {
  "kernelspec": {
   "display_name": "Python 3",
   "language": "python",
   "name": "python3"
  },
  "language_info": {
   "codemirror_mode": {
    "name": "ipython",
    "version": 3
   },
   "file_extension": ".py",
   "mimetype": "text/x-python",
   "name": "python",
   "nbconvert_exporter": "python",
   "pygments_lexer": "ipython3",
   "version": "3.7.15"
  }
 },
 "nbformat": 4,
 "nbformat_minor": 5
}
